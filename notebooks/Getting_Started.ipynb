{
 "cells": [
  {
   "cell_type": "markdown",
   "id": "d418898c",
   "metadata": {},
   "source": [
    "# DJ AI Core - Getting Started\n",
    "\n",
    "This notebook demonstrates the basic functionality of the DJ AI Core system.\n",
    "\n",
    "## Overview\n",
    "\n",
    "DJ AI Core provides:\n",
    "- Audio analysis (BPM, key detection, feature extraction)\n",
    "- ML-powered transition recommendations\n",
    "- REST API for integration\n",
    "\n",
    "## Prerequisites\n",
    "\n",
    "1. Make sure the FastAPI server is running: `uvicorn app.main:app --reload`\n",
    "2. Have some audio files ready for testing (MP3, WAV, FLAC, M4A)"
   ]
  },
  {
   "cell_type": "code",
   "execution_count": null,
   "id": "bd2610d4",
   "metadata": {},
   "outputs": [],
   "source": [
    "# Import required libraries\n",
    "import requests\n",
    "import json\n",
    "import sys\n",
    "import os\n",
    "\n",
    "# Add project root to path\n",
    "sys.path.append('..')\n",
    "\n",
    "from audio.analysis import AudioAnalyzer\n",
    "from audio.features import FeatureExtractor\n",
    "from ml.prediction import TransitionPredictor"
   ]
  },
  {
   "cell_type": "markdown",
   "id": "1efdff6b",
   "metadata": {},
   "source": [
    "## 1. Test API Health Check"
   ]
  },
  {
   "cell_type": "code",
   "execution_count": null,
   "id": "c3159c27",
   "metadata": {},
   "outputs": [],
   "source": [
    "# Test the API health check\n",
    "response = requests.get('http://localhost:8000/')\n",
    "print(\"Status Code:\", response.status_code)\n",
    "print(\"Response:\")\n",
    "print(json.dumps(response.json(), indent=2))"
   ]
  },
  {
   "cell_type": "markdown",
   "id": "8afeac39",
   "metadata": {},
   "source": [
    "## 2. Direct Audio Analysis (Without API)"
   ]
  },
  {
   "cell_type": "code",
   "execution_count": null,
   "id": "78ddda37",
   "metadata": {},
   "outputs": [],
   "source": [
    "# Initialize audio analyzer\n",
    "analyzer = AudioAnalyzer()\n",
    "feature_extractor = FeatureExtractor()\n",
    "\n",
    "# Note: You would replace 'path_to_audio_file.mp3' with an actual audio file\n",
    "# For demonstration, we'll show the structure without actual analysis\n",
    "\n",
    "print(\"Audio Analyzer initialized with sample rate:\", analyzer.sample_rate)\n",
    "print(\"Feature Extractor initialized with MFCC count:\", feature_extractor.n_mfcc)\n",
    "\n",
    "# Example of what the analysis would return:\n",
    "example_analysis = {\n",
    "    \"bpm\": 128.5,\n",
    "    \"key\": \"C major\",\n",
    "    \"energy\": 0.85,\n",
    "    \"danceability\": 0.92,\n",
    "    \"valence\": 0.73\n",
    "}\n",
    "\n",
    "print(\"\\nExample analysis result:\")\n",
    "print(json.dumps(example_analysis, indent=2))"
   ]
  },
  {
   "cell_type": "markdown",
   "id": "d1df611f",
   "metadata": {},
   "source": [
    "## 3. Transition Prediction"
   ]
  },
  {
   "cell_type": "code",
   "execution_count": null,
   "id": "7e9ecb1c",
   "metadata": {},
   "outputs": [],
   "source": [
    "# Initialize transition predictor\n",
    "predictor = TransitionPredictor()\n",
    "\n",
    "# Add some example tracks to the database\n",
    "track1_features = {\n",
    "    'bpm': 120.0,\n",
    "    'energy': 0.8,\n",
    "    'key': 'C major',\n",
    "    'valence': 0.7,\n",
    "    'loudness': -8.0,\n",
    "    'spectral_centroid': 1500.0,\n",
    "    'spectral_rolloff': 3000.0,\n",
    "    'zero_crossing_rate': 0.05,\n",
    "    'danceability': 0.8\n",
    "}\n",
    "\n",
    "track2_features = {\n",
    "    'bpm': 122.0,  # Similar BPM\n",
    "    'energy': 0.75,\n",
    "    'key': 'C major',  # Same key\n",
    "    'valence': 0.65,\n",
    "    'loudness': -9.0,\n",
    "    'spectral_centroid': 1550.0,\n",
    "    'spectral_rolloff': 3100.0,\n",
    "    'zero_crossing_rate': 0.048,\n",
    "    'danceability': 0.85\n",
    "}\n",
    "\n",
    "track3_features = {\n",
    "    'bpm': 140.0,  # Different BPM\n",
    "    'energy': 0.3,  # Lower energy\n",
    "    'key': 'F# minor',  # Different key\n",
    "    'valence': 0.2,\n",
    "    'loudness': -15.0,\n",
    "    'spectral_centroid': 800.0,\n",
    "    'spectral_rolloff': 1500.0,\n",
    "    'zero_crossing_rate': 0.02,\n",
    "    'danceability': 0.2\n",
    "}\n",
    "\n",
    "# Add tracks to predictor database\n",
    "predictor.add_track_to_database(\"track1\", track1_features)\n",
    "predictor.add_track_to_database(\"track2\", track2_features)\n",
    "predictor.add_track_to_database(\"track3\", track3_features)\n",
    "\n",
    "print(\"Added 3 tracks to the transition predictor database\")"
   ]
  },
  {
   "cell_type": "code",
   "execution_count": null,
   "id": "5071913e",
   "metadata": {},
   "outputs": [],
   "source": [
    "# Get transition recommendations\n",
    "recommendations = predictor.predict_transitions(\"track1\", [\"track2\", \"track3\"])\n",
    "\n",
    "print(\"Transition recommendations from track1:\")\n",
    "for rec in recommendations:\n",
    "    print(f\"\\nTrack: {rec['track_id']}\")\n",
    "    print(f\"Compatibility Score: {rec['compatibility_score']}\")\n",
    "    print(f\"Transition Type: {rec['transition_type']}\")\n",
    "    print(f\"Reasons: {', '.join(rec['reasons'])}\")"
   ]
  },
  {
   "cell_type": "markdown",
   "id": "afa2e3d1",
   "metadata": {},
   "source": [
    "## 4. API Usage Examples"
   ]
  },
  {
   "cell_type": "code",
   "execution_count": null,
   "id": "e8de8336",
   "metadata": {},
   "outputs": [],
   "source": [
    "# Get supported formats\n",
    "response = requests.get('http://localhost:8000/supported-formats')\n",
    "print(\"Supported Audio Formats:\")\n",
    "print(json.dumps(response.json(), indent=2))"
   ]
  },
  {
   "cell_type": "code",
   "execution_count": null,
   "id": "997f990b",
   "metadata": {},
   "outputs": [],
   "source": [
    "# Example transition recommendation request via API\n",
    "transition_request = {\n",
    "    \"current_track_id\": \"track_123\",\n",
    "    \"available_tracks\": [\"track_456\", \"track_789\", \"track_101\"]\n",
    "}\n",
    "\n",
    "response = requests.post(\n",
    "    'http://localhost:8000/recommend-transitions',\n",
    "    json=transition_request\n",
    ")\n",
    "\n",
    "print(\"Status Code:\", response.status_code)\n",
    "print(\"Transition Recommendations:\")\n",
    "print(json.dumps(response.json(), indent=2))"
   ]
  },
  {
   "cell_type": "markdown",
   "id": "e9c14fa7",
   "metadata": {},
   "source": [
    "## 5. Analyze DJ Set"
   ]
  },
  {
   "cell_type": "code",
   "execution_count": null,
   "id": "323b6f12",
   "metadata": {},
   "outputs": [],
   "source": [
    "# Analyze a complete DJ set\n",
    "dj_set = [\"track1\", \"track2\", \"track3\"]\n",
    "\n",
    "set_analysis = predictor.analyze_dj_set(dj_set)\n",
    "\n",
    "print(\"DJ Set Analysis:\")\n",
    "print(json.dumps(set_analysis, indent=2))"
   ]
  },
  {
   "cell_type": "markdown",
   "id": "22530a4a",
   "metadata": {},
   "source": [
    "## Next Steps\n",
    "\n",
    "1. **Upload Real Audio Files**: Use the `/analyze-track` endpoint to analyze real audio files\n",
    "2. **Train ML Models**: Use the training pipeline to improve transition predictions\n",
    "3. **Build Frontend**: Create a web interface using the dj-ai-frontend project\n",
    "4. **Mobile App**: Develop a mobile app using the dj-ai-app project\n",
    "\n",
    "## Useful Resources\n",
    "\n",
    "- **API Documentation**: http://localhost:8000/docs\n",
    "- **Project Repository**: Check the README.md for detailed setup instructions\n",
    "- **Testing**: Run `pytest` to execute the test suite"
   ]
  }
 ],
 "metadata": {
  "language_info": {
   "name": "python"
  }
 },
 "nbformat": 4,
 "nbformat_minor": 5
}
